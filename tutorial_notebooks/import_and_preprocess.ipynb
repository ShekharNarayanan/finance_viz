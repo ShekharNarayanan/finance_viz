{
  "cells": [
    {
      "cell_type": "code",
      "execution_count": 23,
      "metadata": {},
      "outputs": [],
      "source": [
        "import pandas as pd\n",
        "import matplotlib.pyplot as plt\n",
        "import numpy as np\n",
        "from pathlib import Path\n",
        "import sys, os\n",
        "\n",
        "# add relevant folders to sys path (only needed for jupyter)\n",
        "proj_path = Path().cwd().parent\n",
        "for folder in next(os.walk(proj_path))[1]:\n",
        "    if '.' not in folder: # ignore hidden folders like .git\n",
        "        path_to_add = os.path.join(proj_path,folder)\n",
        "        sys.path.append(path_to_add)\n",
        "\n",
        "from augment_transaction_data import AugmentTransactionData"
      ]
    },
    {
      "cell_type": "code",
      "execution_count": null,
      "metadata": {},
      "outputs": [],
      "source": [
        "atd = AugmentTransactionData(proj_path)\n",
        "transactions = atd.get_transaction_data()\n",
        "temp = transactions\n",
        "temp.head() #not printing for privacy reasons"
      ]
    },
    {
      "cell_type": "code",
      "execution_count": 25,
      "metadata": {},
      "outputs": [],
      "source": [
        "day = [day[6:] for day in transactions['valuedate'][:].astype(str)]\n",
        "month = [month[4:6] for month in transactions['valuedate'][:].astype(str)]\n",
        "year = [year[:4] for year in transactions['valuedate'][:].astype(str)]"
      ]
    },
    {
      "cell_type": "code",
      "execution_count": 26,
      "metadata": {},
      "outputs": [],
      "source": [
        "temp.drop(columns = ['accountNumber','mutationcode','transactiondate','valuedate'], inplace=True)"
      ]
    },
    {
      "cell_type": "code",
      "execution_count": 27,
      "metadata": {},
      "outputs": [],
      "source": [
        "temp['day'] = day\n",
        "temp['month'] = month\n",
        "temp['year'] = year\n",
        "# temp['description'] = desc_summary\n",
        "temp = temp.reindex(['day','month','year','startsaldo','endsaldo','amount','description'], axis=1)"
      ]
    },
    {
      "cell_type": "code",
      "execution_count": 28,
      "metadata": {},
      "outputs": [],
      "source": [
        "# expenditure and income \n",
        "#TODO: \n",
        "# add use of description here-- expenses coming in and going to savings should not be counted\n",
        "# add the funcionality to select the date range based on a given range option\n",
        "\n",
        "# select time period\n",
        "month_inp = \"08\"\n",
        "year_inp = \"2023\"\n",
        "\n",
        "# make conditions\n",
        "time_cond = (temp['month'] == month_inp) & (temp[\"year\"] == year_inp)\n",
        "expenses_cond = (temp['amount'] < 0)\n",
        "income_cond = (temp['amount'] > 0)\n",
        "\n",
        "# variables to plot\n",
        "days_exp = temp[time_cond & expenses_cond][\"day\"]\n",
        "expenses = np.array(temp[expenses_cond & time_cond]['amount'])\n",
        "income = np.array(temp[income_cond & time_cond]['amount'])\n"
      ]
    },
    {
      "cell_type": "code",
      "execution_count": null,
      "metadata": {},
      "outputs": [],
      "source": [
        "# plotting expenses\n",
        "plt.figure(figsize=(11.69,4))\n",
        "plt.bar(days_exp, -expenses, alpha=0.5)\n",
        "plt.scatter(days_exp,-expenses, marker='x', color='red',alpha=0.5)\n",
        "plt.title(f'expenses: {month_inp}-{year_inp}')\n",
        "plt.xlabel('aug 14-sept13')\n",
        "plt.ylabel('money spent (euro)')\n",
        "\n",
        "plt.text(13, 800, 'Total Expenditure = XXXX euro', fontsize = 14, \n",
        "         bbox = dict(facecolor = 'red', alpha = 0.5)) # in your notebook, replace XXXX with temp['amount'].sum()\n",
        "plt.tight_layout()\n",
        "plt.show()\n"
      ]
    }
  ],
  "metadata": {
    "kernelspec": {
      "display_name": "finance_viz",
      "language": "python",
      "name": "python3"
    },
    "language_info": {
      "codemirror_mode": {
        "name": "ipython",
        "version": 3
      },
      "file_extension": ".py",
      "mimetype": "text/x-python",
      "name": "python",
      "nbconvert_exporter": "python",
      "pygments_lexer": "ipython3",
      "version": "3.13.0"
    }
  },
  "nbformat": 4,
  "nbformat_minor": 2
}
