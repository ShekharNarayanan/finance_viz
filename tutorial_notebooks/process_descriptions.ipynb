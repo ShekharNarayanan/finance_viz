{
 "cells": [
  {
   "cell_type": "code",
   "execution_count": null,
   "metadata": {},
   "outputs": [],
   "source": [
    "import pandas as pd\n",
    "import matplotlib.pyplot as plt\n",
    "import numpy as np\n",
    "from pathlib import Path\n",
    "import sys, os\n",
    "\n",
    "# add relevant folders to sys path (only needed for jupyter)\n",
    "proj_path = Path().cwd().parent \n",
    "\n",
    "try:\n",
    "    for folder in next(os.walk(proj_path))[1]:\n",
    "        if '.' not in folder:  # ignore hidden folders like .git\n",
    "            path_to_add = os.path.join(proj_path, folder)\n",
    "            sys.path.append(path_to_add)\n",
    "except StopIteration:\n",
    "    print(f\"No directories found in {proj_path}\")\n",
    "\n",
    "from utils.transaction_data_utils import AugmentTransactionData"
   ]
  },
  {
   "cell_type": "code",
   "execution_count": null,
   "metadata": {},
   "outputs": [],
   "source": [
    "# Initialize class and load data\n",
    "atd = AugmentTransactionData() \n",
    "\n",
    "# get transactions with identifiers (SEPA, BEA, ideal etc..)\n",
    "transactions = atd.get_transaction_details() \n",
    "\n",
    "# # remove sensitive info or columns\n",
    "transactions = atd.remove_sensitive_data(transactions) # remove sensitive info or columns\n",
    "\n",
    "transactions.head(                  )\n"
   ]
  },
  {
   "cell_type": "code",
   "execution_count": null,
   "metadata": {},
   "outputs": [],
   "source": [
    "#  find most frequent transaction types\n",
    "most_freq_transaction_types = atd.get_most_freq_transaction_types()\n",
    "\n",
    "# get dataset with company labels\n",
    "tr_data_with_companies = atd.get_transaction_details(transactions)\n",
    "\n",
    "# show results\n",
    "tr_data_with_companies.head()"
   ]
  },
  {
   "cell_type": "code",
   "execution_count": null,
   "metadata": {},
   "outputs": [],
   "source": [
    "# example to show what would happen if wrong data types were used for functions (check the key error)\n",
    "\n",
    "# lets try using data without identifiers to get companies!\n",
    "transactions = atd.get_transactions_with_identifiers()\n",
    "\n",
    "# remove sensitive info\n",
    "transactions= atd.remove_sensitive_data(transactions)\n",
    "\n",
    "# try getting companies\n",
    "tr_data_with_companies = atd.get_transaction_details(transactions)\n",
    "tr_data_with_companies.head()   \n"
   ]
  }
 ],
 "metadata": {
  "kernelspec": {
   "display_name": "finance_viz",
   "language": "python",
   "name": "python3"
  },
  "language_info": {
   "codemirror_mode": {
    "name": "ipython",
    "version": 3
   },
   "file_extension": ".py",
   "mimetype": "text/x-python",
   "name": "python",
   "nbconvert_exporter": "python",
   "pygments_lexer": "ipython3",
   "version": "3.12.7"
  }
 },
 "nbformat": 4,
 "nbformat_minor": 2
}
