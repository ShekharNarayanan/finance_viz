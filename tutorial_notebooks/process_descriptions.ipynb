{
  "cells": [
    {
      "cell_type": "markdown",
      "metadata": {},
      "source": [
        "# Game plan\n",
        "### Analyze transaction descriptions. How?:\n",
        "- **Identify which company/person was the amount paid to**:\n",
        "  - Identify categories of transaction types based on payment method.\n",
        "  - Find out the frequency of these categories and use the most frequently used data.\n",
        "\n",
        "- **Identify which category the companies fall into**:\n",
        "  - APIs/LLMs (?):\n",
        "    - Restaurant, Grocery, Clothing, Sports, Travel, Misc.\n",
        "\n"
      ]
    },
    {
      "cell_type": "code",
      "execution_count": 15,
      "metadata": {},
      "outputs": [],
      "source": [
        "import pandas as pd\n",
        "import matplotlib.pyplot as plt\n",
        "import numpy as np\n",
        "from pathlib import Path\n",
        "import sys, os\n",
        "\n",
        "# add relevant folders to sys path (only needed for jupyter)\n",
        "proj_path = Path().cwd()\n",
        "for folder in next(os.walk(proj_path))[1]:\n",
        "    if '.' not in folder: # ignore hidden folders like .git\n",
        "        path_to_add = os.path.join(proj_path,folder)\n",
        "        sys.path.append(path_to_add)\n",
        "\n",
        "import data_functions"
      ]
    },
    {
      "cell_type": "code",
      "execution_count": 16,
      "metadata": {},
      "outputs": [],
      "source": [
        "transactions = data_functions.load_transaction_data()\n",
        "# transactions.head() mute for security reasons"
      ]
    },
    {
      "cell_type": "code",
      "execution_count": 17,
      "metadata": {},
      "outputs": [],
      "source": [
        "def make_identifier(description):\n",
        "\n",
        "    \"\"\"Identify transaction type using method of payment. \n",
        "    The first two string elements in the description indicate type of transaction, \n",
        "    the payment method, or the institution facilitating the transaction (SEPA or BEA for instance)\n",
        "    \n",
        "    \"\"\"\n",
        "    elements = description.split()[:2]\n",
        "    if ',' in elements[0]:\n",
        "        elements[0] = elements[0].split(',')[0]\n",
        "\n",
        "    identfier = elements[0] + '_' + elements[1]\n",
        "\n",
        "    return identfier\n",
        "\n"
      ]
    },
    {
      "cell_type": "code",
      "execution_count": 18,
      "metadata": {},
      "outputs": [],
      "source": [
        "identifiers = []\n",
        "\n",
        "# append identifiers from transaction descriptions\n",
        "for descriptions in transactions['description']:\n",
        "    \n",
        "    identifiers.append(make_identifier(descriptions))\n",
        "\n",
        "transactions['identifier'] = identifiers\n",
        "\n",
        "# print transaction table again\n",
        "#transactions.head()"
      ]
    },
    {
      "cell_type": "code",
      "execution_count": 19,
      "metadata": {},
      "outputs": [],
      "source": [
        "# frequency of different transaction type\n",
        "#print(transactions['identifier'].explode().value_counts())"
      ]
    }
  ],
  "metadata": {
    "kernelspec": {
      "display_name": "finance_viz",
      "language": "python",
      "name": "python3"
    },
    "language_info": {
      "codemirror_mode": {
        "name": "ipython",
        "version": 3
      },
      "file_extension": ".py",
      "mimetype": "text/x-python",
      "name": "python",
      "nbconvert_exporter": "python",
      "pygments_lexer": "ipython3",
      "version": "3.12.5"
    }
  },
  "nbformat": 4,
  "nbformat_minor": 2
}
