{
 "cells": [
  {
   "cell_type": "code",
   "execution_count": 1,
   "metadata": {},
   "outputs": [],
   "source": [
    "import pandas as pd\n",
    "import matplotlib.pyplot as plt\n",
    "import numpy as np\n",
    "from pathlib import Path\n",
    "import sys, os\n",
    "\n",
    "# add relevant folders to sys path (only needed for jupyter)\n",
    "proj_path = Path().cwd().parent\n",
    "for folder in next(os.walk(proj_path))[1]:\n",
    "    if '.' not in folder: # ignore hidden folders like .git\n",
    "        path_to_add = os.path.join(proj_path,folder)\n",
    "        sys.path.append(path_to_add)\n",
    "\n",
    "from augment_transaction_data import AugmentTransactionData"
   ]
  },
  {
   "cell_type": "code",
   "execution_count": 2,
   "metadata": {},
   "outputs": [
    {
     "data": {
      "text/html": [
       "<div>\n",
       "<style scoped>\n",
       "    .dataframe tbody tr th:only-of-type {\n",
       "        vertical-align: middle;\n",
       "    }\n",
       "\n",
       "    .dataframe tbody tr th {\n",
       "        vertical-align: top;\n",
       "    }\n",
       "\n",
       "    .dataframe thead th {\n",
       "        text-align: right;\n",
       "    }\n",
       "</style>\n",
       "<table border=\"1\" class=\"dataframe\">\n",
       "  <thead>\n",
       "    <tr style=\"text-align: right;\">\n",
       "      <th></th>\n",
       "      <th>description</th>\n",
       "      <th>identifier</th>\n",
       "    </tr>\n",
       "  </thead>\n",
       "  <tbody>\n",
       "    <tr>\n",
       "      <th>0</th>\n",
       "      <td>SEPA iDEAL                       IBAN: NL31ABN...</td>\n",
       "      <td>SEPA_iDEAL</td>\n",
       "    </tr>\n",
       "    <tr>\n",
       "      <th>1</th>\n",
       "      <td>BEA, Apple Pay                   Zettle_*Vief ...</td>\n",
       "      <td>BEA_Apple</td>\n",
       "    </tr>\n",
       "    <tr>\n",
       "      <th>2</th>\n",
       "      <td>BEA, Apple Pay                   CCV*World Net...</td>\n",
       "      <td>BEA_Apple</td>\n",
       "    </tr>\n",
       "    <tr>\n",
       "      <th>3</th>\n",
       "      <td>BEA, Apple Pay                   CCV*World Net...</td>\n",
       "      <td>BEA_Apple</td>\n",
       "    </tr>\n",
       "    <tr>\n",
       "      <th>4</th>\n",
       "      <td>BEA, Apple Pay                   Kronkel BV,PA...</td>\n",
       "      <td>BEA_Apple</td>\n",
       "    </tr>\n",
       "  </tbody>\n",
       "</table>\n",
       "</div>"
      ],
      "text/plain": [
       "                                         description  identifier\n",
       "0  SEPA iDEAL                       IBAN: NL31ABN...  SEPA_iDEAL\n",
       "1  BEA, Apple Pay                   Zettle_*Vief ...   BEA_Apple\n",
       "2  BEA, Apple Pay                   CCV*World Net...   BEA_Apple\n",
       "3  BEA, Apple Pay                   CCV*World Net...   BEA_Apple\n",
       "4  BEA, Apple Pay                   Kronkel BV,PA...   BEA_Apple"
      ]
     },
     "execution_count": 2,
     "metadata": {},
     "output_type": "execute_result"
    }
   ],
   "source": [
    "# Initialize class and load data\n",
    "atd = AugmentTransactionData(proj_path) \n",
    "\n",
    "# get transactions with identifiers (SEPA, BEA, ideal etc..)\n",
    "transactions = atd.get_transactions_with_identifiers() \n",
    "\n",
    "# remove sensitive info or columns\n",
    "transactions = atd.remove_sensitive_data(transactions,extra_cols=['amount']) # remove sensitive info or columns\n",
    "\n",
    "transactions.head()"
   ]
  },
  {
   "cell_type": "code",
   "execution_count": 3,
   "metadata": {},
   "outputs": [
    {
     "data": {
      "text/html": [
       "<div>\n",
       "<style scoped>\n",
       "    .dataframe tbody tr th:only-of-type {\n",
       "        vertical-align: middle;\n",
       "    }\n",
       "\n",
       "    .dataframe tbody tr th {\n",
       "        vertical-align: top;\n",
       "    }\n",
       "\n",
       "    .dataframe thead th {\n",
       "        text-align: right;\n",
       "    }\n",
       "</style>\n",
       "<table border=\"1\" class=\"dataframe\">\n",
       "  <thead>\n",
       "    <tr style=\"text-align: right;\">\n",
       "      <th></th>\n",
       "      <th>description</th>\n",
       "      <th>identifier</th>\n",
       "      <th>company</th>\n",
       "    </tr>\n",
       "  </thead>\n",
       "  <tbody>\n",
       "    <tr>\n",
       "      <th>0</th>\n",
       "      <td>SEPA iDEAL                       IBAN: NL31ABN...</td>\n",
       "      <td>SEPA_iDEAL</td>\n",
       "      <td>Thuisbezorgd.nl</td>\n",
       "    </tr>\n",
       "    <tr>\n",
       "      <th>1</th>\n",
       "      <td>BEA, Apple Pay                   Zettle_*Vief ...</td>\n",
       "      <td>BEA_Apple</td>\n",
       "      <td>Zettle_*Vief</td>\n",
       "    </tr>\n",
       "    <tr>\n",
       "      <th>2</th>\n",
       "      <td>BEA, Apple Pay                   CCV*World Net...</td>\n",
       "      <td>BEA_Apple</td>\n",
       "      <td>CCV*World</td>\n",
       "    </tr>\n",
       "    <tr>\n",
       "      <th>3</th>\n",
       "      <td>BEA, Apple Pay                   CCV*World Net...</td>\n",
       "      <td>BEA_Apple</td>\n",
       "      <td>CCV*World</td>\n",
       "    </tr>\n",
       "    <tr>\n",
       "      <th>4</th>\n",
       "      <td>BEA, Apple Pay                   Kronkel BV,PA...</td>\n",
       "      <td>BEA_Apple</td>\n",
       "      <td>Kronkel</td>\n",
       "    </tr>\n",
       "  </tbody>\n",
       "</table>\n",
       "</div>"
      ],
      "text/plain": [
       "                                         description  identifier  \\\n",
       "0  SEPA iDEAL                       IBAN: NL31ABN...  SEPA_iDEAL   \n",
       "1  BEA, Apple Pay                   Zettle_*Vief ...   BEA_Apple   \n",
       "2  BEA, Apple Pay                   CCV*World Net...   BEA_Apple   \n",
       "3  BEA, Apple Pay                   CCV*World Net...   BEA_Apple   \n",
       "4  BEA, Apple Pay                   Kronkel BV,PA...   BEA_Apple   \n",
       "\n",
       "           company  \n",
       "0  Thuisbezorgd.nl  \n",
       "1     Zettle_*Vief  \n",
       "2        CCV*World  \n",
       "3        CCV*World  \n",
       "4          Kronkel  "
      ]
     },
     "execution_count": 3,
     "metadata": {},
     "output_type": "execute_result"
    }
   ],
   "source": [
    "#  find most frequent transaction types\n",
    "most_freq_transaction_types = atd.get_most_freq_transaction_types()\n",
    "\n",
    "# get dataset with company labels\n",
    "tr_data_with_companies = atd.get_transactions_with_company_labels(transactions)\n",
    "\n",
    "# show results\n",
    "tr_data_with_companies.head()\n",
    "\n",
    "\n"
   ]
  },
  {
   "cell_type": "code",
   "execution_count": 4,
   "metadata": {},
   "outputs": [
    {
     "ename": "KeyError",
     "evalue": "\"The transaction data used in this function requires the 'identifier' field.Consider using the output of get_transactions_with_identifiers() function.Alternatively, use the function with no input arguments.\"",
     "output_type": "error",
     "traceback": [
      "\u001b[1;31m---------------------------------------------------------------------------\u001b[0m",
      "\u001b[1;31mKeyError\u001b[0m                                  Traceback (most recent call last)",
      "Cell \u001b[1;32mIn[4], line 10\u001b[0m\n\u001b[0;32m      7\u001b[0m transactions\u001b[38;5;241m=\u001b[39m atd\u001b[38;5;241m.\u001b[39mremove_sensitive_data(transactions)\n\u001b[0;32m      9\u001b[0m \u001b[38;5;66;03m# try getting companies\u001b[39;00m\n\u001b[1;32m---> 10\u001b[0m tr_data_with_companies \u001b[38;5;241m=\u001b[39m \u001b[43matd\u001b[49m\u001b[38;5;241;43m.\u001b[39;49m\u001b[43mget_transactions_with_company_labels\u001b[49m\u001b[43m(\u001b[49m\u001b[43mtransactions\u001b[49m\u001b[43m)\u001b[49m\n",
      "File \u001b[1;32mc:\\Users\\narayana\\OneDrive - Tilburg University\\Desktop\\projects\\personal\\finance_viz\\utils\\augment_transaction_data.py:120\u001b[0m, in \u001b[0;36mAugmentTransactionData.get_transactions_with_company_labels\u001b[1;34m(self, optional_input)\u001b[0m\n\u001b[0;32m    118\u001b[0m     transactions_with_identifiers \u001b[38;5;241m=\u001b[39m optional_input        \n\u001b[0;32m    119\u001b[0m     \u001b[38;5;28;01mif\u001b[39;00m \u001b[38;5;124m'\u001b[39m\u001b[38;5;124midentifier\u001b[39m\u001b[38;5;124m'\u001b[39m \u001b[38;5;129;01mnot\u001b[39;00m \u001b[38;5;129;01min\u001b[39;00m transactions_with_identifiers\u001b[38;5;241m.\u001b[39mcolumns:\n\u001b[1;32m--> 120\u001b[0m         \u001b[38;5;28;01mraise\u001b[39;00m \u001b[38;5;167;01mKeyError\u001b[39;00m(\n\u001b[0;32m    121\u001b[0m             \u001b[38;5;124m\"\u001b[39m\u001b[38;5;124mThe transaction data used in this function requires the \u001b[39m\u001b[38;5;124m'\u001b[39m\u001b[38;5;124midentifier\u001b[39m\u001b[38;5;124m'\u001b[39m\u001b[38;5;124m field.\u001b[39m\u001b[38;5;124m\"\u001b[39m\n\u001b[0;32m    122\u001b[0m             \u001b[38;5;124m\"\u001b[39m\u001b[38;5;124mConsider using the output of get_transactions_with_identifiers() function.\u001b[39m\u001b[38;5;124m\"\u001b[39m\n\u001b[0;32m    123\u001b[0m             \u001b[38;5;124m\"\u001b[39m\u001b[38;5;124mAlternatively, use the function with no input arguments.\u001b[39m\u001b[38;5;124m\"\u001b[39m\n\u001b[0;32m    124\u001b[0m         )\n\u001b[0;32m    128\u001b[0m \u001b[38;5;66;03m# get most frequent transaction types\u001b[39;00m\n\u001b[0;32m    129\u001b[0m most_frequent_tr_type \u001b[38;5;241m=\u001b[39m \u001b[38;5;28mself\u001b[39m\u001b[38;5;241m.\u001b[39mget_most_freq_transaction_types()\n",
      "\u001b[1;31mKeyError\u001b[0m: \"The transaction data used in this function requires the 'identifier' field.Consider using the output of get_transactions_with_identifiers() function.Alternatively, use the function with no input arguments.\""
     ]
    }
   ],
   "source": [
    "# example to show what would happen if wrong data types were used for functions (check the key error)\n",
    "\n",
    "# lets try using data without identifiers to get companies!\n",
    "transactions = atd.get_transaction_data()\n",
    "\n",
    "# remove sensitive info\n",
    "transactions= atd.remove_sensitive_data(transactions)\n",
    "\n",
    "# try getting companies\n",
    "tr_data_with_companies = atd.get_transactions_with_company_labels(transactions)\n"
   ]
  }
 ],
 "metadata": {
  "kernelspec": {
   "display_name": "finance_viz",
   "language": "python",
   "name": "python3"
  },
  "language_info": {
   "codemirror_mode": {
    "name": "ipython",
    "version": 3
   },
   "file_extension": ".py",
   "mimetype": "text/x-python",
   "name": "python",
   "nbconvert_exporter": "python",
   "pygments_lexer": "ipython3",
   "version": "3.12.7"
  }
 },
 "nbformat": 4,
 "nbformat_minor": 2
}
