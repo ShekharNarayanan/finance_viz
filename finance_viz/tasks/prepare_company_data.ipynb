{
 "cells": [
  {
   "cell_type": "code",
   "execution_count": 3,
   "metadata": {},
   "outputs": [],
   "source": [
    "import pandas as pd\n",
    "import matplotlib.pyplot as plt\n",
    "import numpy as np\n",
    "from pathlib import Path\n",
    "import sys, os\n",
    "from finance_viz.utils.transaction_data_utils import AugmentTransactionData, PROJECT_ROOT"
   ]
  },
  {
   "cell_type": "code",
   "execution_count": 4,
   "metadata": {},
   "outputs": [],
   "source": [
    "atd = AugmentTransactionData() # initialize class\n",
    "\n",
    "# get prepared data\n",
    "prepared_transaction_data = atd.get_prepared_transaction_data()\n",
    "\n",
    "# show header column\n",
    "prepared_transaction_data.head()\n",
    "\n",
    "# save data\n",
    "prepared_transaction_data.to_csv(PROJECT_ROOT / 'input_data' / 'prepared_transaction_data.csv', index=False)\n"
   ]
  }
 ],
 "metadata": {
  "kernelspec": {
   "display_name": "finance_viz",
   "language": "python",
   "name": "python3"
  },
  "language_info": {
   "codemirror_mode": {
    "name": "ipython",
    "version": 3
   },
   "file_extension": ".py",
   "mimetype": "text/x-python",
   "name": "python",
   "nbconvert_exporter": "python",
   "pygments_lexer": "ipython3",
   "version": "3.12.7"
  }
 },
 "nbformat": 4,
 "nbformat_minor": 2
}
